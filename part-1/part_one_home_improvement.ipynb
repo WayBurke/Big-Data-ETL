{
  "nbformat": 4,
  "nbformat_minor": 0,
  "metadata": {
    "colab": {
      "provenance": []
    },
    "kernelspec": {
      "name": "python3",
      "display_name": "Python 3"
    },
    "language_info": {
      "name": "python"
    }
  },
  "cells": [
    {
      "cell_type": "markdown",
      "source": [
        "# Module 22: Big Data Challenge - Amazon Reviews\n",
        "## Home Improvement Reviews"
      ],
      "metadata": {
        "id": "f8RCDChXcBuj"
      }
    },
    {
      "cell_type": "code",
      "source": [
        "import os\n",
        "\n",
        "# Using Spark Version 3.2.2. To find the latest version of spark 3.2  from http://www.apache.org/dist/spark/ and enter as the spark version\n",
        "spark_version = 'spark-3.2.2'\n",
        "os.environ['SPARK_VERSION']=spark_version\n",
        "\n",
        "# Install Spark and Java\n",
        "!apt-get update\n",
        "!apt-get install openjdk-11-jdk-headless -qq > /dev/null\n",
        "!wget -q http://www.apache.org/dist/spark/$SPARK_VERSION/$SPARK_VERSION-bin-hadoop2.7.tgz\n",
        "!tar xf $SPARK_VERSION-bin-hadoop2.7.tgz\n",
        "!pip install -q findspark\n",
        "\n",
        "# Set Environment Variables\n",
        "os.environ[\"JAVA_HOME\"] = \"/usr/lib/jvm/java-11-openjdk-amd64\"\n",
        "os.environ[\"SPARK_HOME\"] = f\"/content/{spark_version}-bin-hadoop2.7\"\n",
        "\n",
        "# Start a SparkSession\n",
        "import findspark\n",
        "findspark.init()"
      ],
      "metadata": {
        "id": "3tPPNB81cJvd",
        "colab": {
          "base_uri": "https://localhost:8080/"
        },
        "outputId": "16ab8743-ce52-40d9-e84d-cd98d56a533e"
      },
      "execution_count": null,
      "outputs": [
        {
          "output_type": "stream",
          "name": "stdout",
          "text": [
            "\r0% [Working]\r            \rGet:1 https://cloud.r-project.org/bin/linux/ubuntu bionic-cran40/ InRelease [3,626 B]\n",
            "\r0% [Connecting to archive.ubuntu.com (185.125.190.39)] [Connecting to security.\r0% [Connecting to archive.ubuntu.com (185.125.190.39)] [Connecting to security.\r                                                                               \rIgn:2 https://developer.download.nvidia.com/compute/machine-learning/repos/ubuntu1804/x86_64  InRelease\n",
            "\r                                                                               \rGet:3 https://developer.download.nvidia.com/compute/cuda/repos/ubuntu1804/x86_64  InRelease [1,581 B]\n",
            "Hit:4 https://developer.download.nvidia.com/compute/machine-learning/repos/ubuntu1804/x86_64  Release\n",
            "Hit:5 http://ppa.launchpad.net/c2d4u.team/c2d4u4.0+/ubuntu bionic InRelease\n",
            "Hit:6 http://archive.ubuntu.com/ubuntu bionic InRelease\n",
            "Get:7 http://security.ubuntu.com/ubuntu bionic-security InRelease [88.7 kB]\n",
            "Get:8 http://archive.ubuntu.com/ubuntu bionic-updates InRelease [88.7 kB]\n",
            "Hit:9 http://ppa.launchpad.net/cran/libgit2/ubuntu bionic InRelease\n",
            "Hit:10 http://ppa.launchpad.net/deadsnakes/ppa/ubuntu bionic InRelease\n",
            "Get:11 http://archive.ubuntu.com/ubuntu bionic-backports InRelease [83.3 kB]\n",
            "Hit:12 http://ppa.launchpad.net/graphics-drivers/ppa/ubuntu bionic InRelease\n",
            "Get:13 https://developer.download.nvidia.com/compute/cuda/repos/ubuntu1804/x86_64  Packages [1,038 kB]\n",
            "Get:15 http://security.ubuntu.com/ubuntu bionic-security/universe amd64 Packages [1,563 kB]\n",
            "Get:16 http://security.ubuntu.com/ubuntu bionic-security/main amd64 Packages [3,068 kB]\n",
            "Get:17 http://archive.ubuntu.com/ubuntu bionic-updates/main amd64 Packages [3,496 kB]\n",
            "Get:18 http://archive.ubuntu.com/ubuntu bionic-updates/restricted amd64 Packages [1,303 kB]\n",
            "Get:19 http://archive.ubuntu.com/ubuntu bionic-updates/universe amd64 Packages [2,338 kB]\n",
            "Fetched 13.1 MB in 9s (1,454 kB/s)\n",
            "Reading package lists... Done\n"
          ]
        }
      ]
    },
    {
      "cell_type": "code",
      "source": [
        "#Connection to Postgres Database\n",
        "\n",
        "!wget https://jdbc.postgresql.org/download/postgresql-42.2.9.jar"
      ],
      "metadata": {
        "id": "J8Z33rJbh4Hr",
        "colab": {
          "base_uri": "https://localhost:8080/"
        },
        "outputId": "6addbc8a-b5fb-4628-bebc-80945a7cb00b"
      },
      "execution_count": null,
      "outputs": [
        {
          "output_type": "stream",
          "name": "stdout",
          "text": [
            "--2022-11-26 09:19:05--  https://jdbc.postgresql.org/download/postgresql-42.2.9.jar\n",
            "Resolving jdbc.postgresql.org (jdbc.postgresql.org)... 72.32.157.228, 2001:4800:3e1:1::228\n",
            "Connecting to jdbc.postgresql.org (jdbc.postgresql.org)|72.32.157.228|:443... connected.\n",
            "HTTP request sent, awaiting response... 200 OK\n",
            "Length: 914037 (893K) [application/java-archive]\n",
            "Saving to: ‘postgresql-42.2.9.jar’\n",
            "\n",
            "postgresql-42.2.9.j 100%[===================>] 892.61K  5.57MB/s    in 0.2s    \n",
            "\n",
            "2022-11-26 09:19:05 (5.57 MB/s) - ‘postgresql-42.2.9.jar’ saved [914037/914037]\n",
            "\n"
          ]
        }
      ]
    },
    {
      "cell_type": "code",
      "source": [
        "# Start Spark session with Postgres connection\n",
        "\n",
        "from pyspark.sql import SparkSession\n",
        "spark = SparkSession.builder.appName(\"BigDataPart1-HomeImprovement\").config(\"spark.driver.extraClassPath\",\"/content/postgresql-42.2.9.jar\").getOrCreate()\n"
      ],
      "metadata": {
        "id": "F3pfsI57cQO_"
      },
      "execution_count": null,
      "outputs": []
    },
    {
      "cell_type": "markdown",
      "source": [
        "## Extract\n",
        "\n",
        "1. Connect to and load data from AWS to dataframe using PySpark\n",
        "2. Include the headers from the dataset\n",
        "3. Verify data and count of entries"
      ],
      "metadata": {
        "id": "FJcNKEJyG4VU"
      }
    },
    {
      "cell_type": "code",
      "source": [
        "# Read in data from S3 Buckets\n",
        "from pyspark import SparkFiles\n",
        "\n",
        "url=\"https://s3.amazonaws.com/amazon-reviews-pds/tsv/amazon_reviews_us_Home_Improvement_v1_00.tsv.gz\"\n",
        "\n",
        "spark.sparkContext.addFile(url)\n",
        "\n",
        "# Modified since this is a tab delimited file.\n",
        "review_df = spark.read.option('header', 'true').csv(SparkFiles.get(\"amazon_reviews_us_Home_Improvement_v1_00.tsv.gz\"), inferSchema=True, sep='\\t', timestampFormat=\"mm/dd/yy\")\n",
        "\n",
        "# Show Top entries of the DataFrame to be later dissected into the table schemas\n",
        "review_df.show()"
      ],
      "metadata": {
        "id": "mLkQB-RXcQhO",
        "colab": {
          "base_uri": "https://localhost:8080/"
        },
        "outputId": "9c6c7339-ad78-4abd-84e1-7e302ead68e1"
      },
      "execution_count": null,
      "outputs": [
        {
          "output_type": "stream",
          "name": "stdout",
          "text": [
            "+-----------+-----------+--------------+----------+--------------+--------------------+----------------+-----------+-------------+-----------+----+-----------------+--------------------+--------------------+-----------+\n",
            "|marketplace|customer_id|     review_id|product_id|product_parent|       product_title|product_category|star_rating|helpful_votes|total_votes|vine|verified_purchase|     review_headline|         review_body|review_date|\n",
            "+-----------+-----------+--------------+----------+--------------+--------------------+----------------+-----------+-------------+-----------+----+-----------------+--------------------+--------------------+-----------+\n",
            "|         US|   48881148|R215C9BDXTDQOW|B00FR4YQYK|     381800308|SadoTech Model C ...|Home Improvement|          4|            0|          0|   N|                Y|          Four Stars|        good product| 2015-08-31|\n",
            "|         US|   47882936|R1DTPUV1J57YHA|B00439MYYE|     921341748|iSpring T32M 3.2 ...|Home Improvement|          5|            0|          0|   N|                Y|Good price, quick...|Good price, quick...| 2015-08-31|\n",
            "|         US|   44435471| RFAZK5EWKJWOU|B00002N762|      56053291|Schlage F10CS V E...|Home Improvement|          5|            0|          0|   N|                Y|          Five Stars|       Excellent...!| 2015-08-31|\n",
            "|         US|   28377689|R2XT8X0O0WS1AL|B000QFCP1G|     595928517|Citri-Strip QCG73...|Home Improvement|          5|            0|          0|   N|                Y|Although *slightl...|Although *slightl...| 2015-08-31|\n",
            "|         US|   50134766|R14GRNANKO2Y2J|B00WRCRKOI|     417053744|SleekLighting Bul...|Home Improvement|          5|            0|          0|   N|                Y|      Great Adapters|These adapters ar...| 2015-08-31|\n",
            "|         US|   14066511|R2BLF9VYL24LCQ|B00NIH88EW|     275395071|VDOMUS&reg;Exquis...|Home Improvement|          5|            1|          1|   N|                Y|                nice|awesome and great...| 2015-08-31|\n",
            "|         US|   15211046|R1GI9UW5KJ671O|B005B9CI96|     856617815|Frigidaire 316075...|Home Improvement|          5|            0|          0|   N|                Y|          Five Stars|Perfect. Exactly ...| 2015-08-31|\n",
            "|         US|   14862498|R2H5CEJN863M86|B008L0OMWI|     125102494|Anyray® 5-Bulbs 7...|Home Improvement|          5|            0|          1|   N|                Y|So far working gr...|So far working gr...| 2015-08-31|\n",
            "|         US|   23617292| R5PPDHFOZ3SMU|B00P9FTC6O|     523110842|Cambridge 100 pcs...|Home Improvement|          5|            0|          0|   N|                Y|           Ties tie.|Not much to say a...| 2015-08-31|\n",
            "|         US|   35820485| RE1L9IENKJJ7Y|B00K6BQEHQ|     797306964|EUBUY Silver Tone...|Home Improvement|          1|            0|          0|   N|                Y|             GARBAGE|       crap quality.| 2015-08-31|\n",
            "|         US|   47162350|R3CZ0990QC2Z0H|B008BYQCWM|     865874404|Legend 809125 Leg...|Home Improvement|          5|            0|          0|   N|                Y|          Five Stars|  Good. As expected.| 2015-08-31|\n",
            "|         US|   31884789|R3UMMD2IO29QSP|B003BLHTOU|     183592595|Forearm Forklift ...|Home Improvement|          5|            0|          0|   N|                Y|           It works!|My husband and I ...| 2015-08-31|\n",
            "|         US|   43835770| R541LE5J3OJH2|B0065I114K|     185006358|Newer Technology ...|Home Improvement|          5|            0|          0|   N|                Y|          Five Stars|     works perfectly| 2015-08-31|\n",
            "|         US|   26212294|R10KD9FIE6Y1AS|B00J9XB6BQ|      53423207|Rok Hardware 25 P...|Home Improvement|          5|            0|          0|   N|                Y|Banging cabinet d...|Banging cabinet d...| 2015-08-31|\n",
            "|         US|   17876704|R1YT5YG0QG5DCG|B00K36NJ0E|     593464633|Drift Light Using...|Home Improvement|          5|            0|          0|   N|                Y|Great product for...|Great product for...| 2015-08-31|\n",
            "|         US|   22813225|R207LXJWL40V1S|B000ZIEOHW|     833911812|Troy DPH11 Profes...|Home Improvement|          4|            0|          0|   N|                Y|GETTING THE JOB D...|Drywalling our 18...| 2015-08-31|\n",
            "|         US|   25448576| RIDP0ZD7WT9DE|B0009YDHKC|     852173443|Wright Products V...|Home Improvement|          5|            0|          0|   N|                Y|          Five Stars|exact replacement...| 2015-08-31|\n",
            "|         US|   19754503|R2XJSNZ9219U1Z|B00LBGVLS2|     929968058|LiftMaster Garage...|Home Improvement|          5|            0|          0|   N|                Y|Easy to program g...|Works as advertis...| 2015-08-31|\n",
            "|         US|   17767084|R2M9F1FVVDOGFL|B00002N5DY|     830214712|Heath Zenith SL-5...|Home Improvement|          5|            0|          0|   N|                Y|     easy to install|Working well the ...| 2015-08-31|\n",
            "|         US|   48001709|R1QTOSE2BHU2LJ|B000BQOX88|     498022954|Intermatic T101 2...|Home Improvement|          3|            1|          2|   N|                Y|Kind of disappoin...|I connected the r...| 2015-08-31|\n",
            "+-----------+-----------+--------------+----------+--------------+--------------------+----------------+-----------+-------------+-----------+----+-----------------+--------------------+--------------------+-----------+\n",
            "only showing top 20 rows\n",
            "\n"
          ]
        }
      ]
    },
    {
      "cell_type": "code",
      "source": [
        "# State the size of the DF before dropping NAs\n",
        "print(review_df.count())"
      ],
      "metadata": {
        "id": "bnkYiryYnIWL",
        "colab": {
          "base_uri": "https://localhost:8080/"
        },
        "outputId": "58a2857a-0f18-46e7-8fff-4936a7367422"
      },
      "execution_count": null,
      "outputs": [
        {
          "output_type": "stream",
          "name": "stdout",
          "text": [
            "2634781\n"
          ]
        }
      ]
    },
    {
      "cell_type": "markdown",
      "source": [
        "## Transform\n",
        "\n",
        "1. Remove NA from Dataframe\n",
        "2. Remove duplicate entries\n",
        "3. Rename columns (as needed) - Not Needed\n",
        "4. Create separate dataframe for each table"
      ],
      "metadata": {
        "id": "7GGL3YnpHJVh"
      }
    },
    {
      "cell_type": "code",
      "source": [
        "#Cleaning up the data set to drop all NAs and Duplicate values\n",
        "\n",
        "# Drop NA values\n",
        "dropna_df = review_df.dropna(how='any')\n",
        "\n",
        "# State the size of the DF after dropping NAs\n",
        "print(f\"Size after dropping NA: {dropna_df.count()}\")\n",
        "\n",
        "# Dropping Duplicate values from the Dataframe\n",
        "dropna_df = dropna_df.dropDuplicates()\n",
        "\n",
        "# State the size of the DF after dropping duplicates\n",
        "print(f\"Size after removing any duplicates: {dropna_df.count()}\")"
      ],
      "metadata": {
        "id": "t2z4JS7lcQnr",
        "colab": {
          "base_uri": "https://localhost:8080/"
        },
        "outputId": "d34f16b5-6043-4b27-a386-8f58ab026f77"
      },
      "execution_count": null,
      "outputs": [
        {
          "output_type": "stream",
          "name": "stdout",
          "text": [
            "Size after dropping NA: 2634255\n",
            "Size after removing any duplicates: 2634255\n"
          ]
        }
      ]
    },
    {
      "cell_type": "code",
      "source": [
        "# Remove columns not included in schema. \n",
        "# These columns are not needed: marketplace, product_category, verified_purchase, review_headline, review_body\n",
        "\n",
        "cleaned_df  = dropna_df.select([\"customer_id\",\"review_id\",\"product_id\", \"product_parent\",\"product_title\",\"star_rating\",\"helpful_votes\",\"total_votes\",\"vine\",\"review_date\"])\n",
        "cleaned_df .show(5)"
      ],
      "metadata": {
        "id": "kuE49a-Znoa3",
        "colab": {
          "base_uri": "https://localhost:8080/"
        },
        "outputId": "02dac9a7-1e1a-4247-cabf-948a69d9d99c"
      },
      "execution_count": null,
      "outputs": [
        {
          "output_type": "stream",
          "name": "stdout",
          "text": [
            "+-----------+--------------+----------+--------------+--------------------+-----------+-------------+-----------+----+-----------+\n",
            "|customer_id|     review_id|product_id|product_parent|       product_title|star_rating|helpful_votes|total_votes|vine|review_date|\n",
            "+-----------+--------------+----------+--------------+--------------------+-----------+-------------+-----------+----+-----------+\n",
            "|    1297897|R100D3UT1KL2LP|B002N1U1FI|     414800992|Wallies 12238 Cam...|          5|            0|          0|   N| 2014-09-19|\n",
            "|   25517286|R100VJOWSRD7MW|B000NCV2V6|     577225575|Heath Zenith BL-6...|          4|            0|          0|   N| 2013-11-24|\n",
            "|   16192717|R103699E1EG79Y|B002TSN4SQ|     786521714|Master Lock 1500I...|          5|            0|          0|   N| 2015-06-01|\n",
            "|    4583604|R1038R168TQ0M2|B007V4YAOK|     111253254|Duck Brand Printe...|          3|            0|          0|   N| 2014-09-21|\n",
            "|   47596134|R103LVNJ2V5MOU|B002MJJ3EQ|      69208640|Delta T14485-SSH2...|          1|            0|          0|   N| 2013-12-16|\n",
            "+-----------+--------------+----------+--------------+--------------------+-----------+-------------+-----------+----+-----------+\n",
            "only showing top 5 rows\n",
            "\n"
          ]
        }
      ]
    },
    {
      "cell_type": "code",
      "source": [
        "#Examine the dataframe schema to check the datatypes\n",
        "\n",
        "cleaned_df.printSchema()"
      ],
      "metadata": {
        "colab": {
          "base_uri": "https://localhost:8080/"
        },
        "id": "7DO8VBHSw7Pf",
        "outputId": "3eaed68a-9d30-4c55-8067-6b1b3604eb6d"
      },
      "execution_count": null,
      "outputs": [
        {
          "output_type": "stream",
          "name": "stdout",
          "text": [
            "root\n",
            " |-- customer_id: integer (nullable = true)\n",
            " |-- review_id: string (nullable = true)\n",
            " |-- product_id: string (nullable = true)\n",
            " |-- product_parent: integer (nullable = true)\n",
            " |-- product_title: string (nullable = true)\n",
            " |-- star_rating: integer (nullable = true)\n",
            " |-- helpful_votes: integer (nullable = true)\n",
            " |-- total_votes: integer (nullable = true)\n",
            " |-- vine: string (nullable = true)\n",
            " |-- review_date: string (nullable = true)\n",
            "\n"
          ]
        }
      ]
    },
    {
      "cell_type": "code",
      "source": [
        "#Updating the schema to have nullable = False\n",
        "\n",
        "cleaned_df.schema['customer_id'].nullable=False\n",
        "cleaned_df.schema['review_id'].nullable=False\n",
        "cleaned_df.schema['product_id'].nullable=False\n",
        "\n",
        "print(cleaned_df.schema['customer_id'])\n",
        "print(cleaned_df.schema['review_id'])\n",
        "print(cleaned_df.schema['product_id'])"
      ],
      "metadata": {
        "colab": {
          "base_uri": "https://localhost:8080/"
        },
        "outputId": "e774b167-9c90-4ca1-9a43-b695cd280f32",
        "id": "75_MeUB9OEF1"
      },
      "execution_count": null,
      "outputs": [
        {
          "output_type": "stream",
          "name": "stdout",
          "text": [
            "StructField(customer_id,IntegerType,false)\n",
            "StructField(review_id,StringType,false)\n",
            "StructField(product_id,StringType,false)\n"
          ]
        }
      ]
    },
    {
      "cell_type": "markdown",
      "source": [
        "### Create Dataframe for each of the Tables"
      ],
      "metadata": {
        "id": "SaKquNC1GgL_"
      }
    },
    {
      "cell_type": "code",
      "source": [
        "# Create review_id dataframe to match review_id_table table\n",
        "review_id_df = cleaned_df.select([\"review_id\", \"customer_id\", \"product_id\", \"product_parent\",\"review_date\"])\n",
        "review_id_df.show(5)"
      ],
      "metadata": {
        "id": "DGlatTAGnhya",
        "colab": {
          "base_uri": "https://localhost:8080/"
        },
        "outputId": "a49c2421-7871-4064-dcff-0efe644fd2f1"
      },
      "execution_count": null,
      "outputs": [
        {
          "output_type": "stream",
          "name": "stdout",
          "text": [
            "+--------------+-----------+----------+--------------+-----------+\n",
            "|     review_id|customer_id|product_id|product_parent|review_date|\n",
            "+--------------+-----------+----------+--------------+-----------+\n",
            "|R100D3UT1KL2LP|    1297897|B002N1U1FI|     414800992| 2014-09-19|\n",
            "|R100VJOWSRD7MW|   25517286|B000NCV2V6|     577225575| 2013-11-24|\n",
            "|R103699E1EG79Y|   16192717|B002TSN4SQ|     786521714| 2015-06-01|\n",
            "|R1038R168TQ0M2|    4583604|B007V4YAOK|     111253254| 2014-09-21|\n",
            "|R103LVNJ2V5MOU|   47596134|B002MJJ3EQ|      69208640| 2013-12-16|\n",
            "+--------------+-----------+----------+--------------+-----------+\n",
            "only showing top 5 rows\n",
            "\n"
          ]
        }
      ]
    },
    {
      "cell_type": "code",
      "source": [
        "# Create products dataframe to match products table\n",
        "products_df = cleaned_df.select([\"product_id\", \"product_title\"])\n",
        "products_df.show(5)"
      ],
      "metadata": {
        "id": "99xKrgkxniBH",
        "colab": {
          "base_uri": "https://localhost:8080/"
        },
        "outputId": "387d8e84-4765-440f-ef9a-dc2e4831dc15"
      },
      "execution_count": null,
      "outputs": [
        {
          "output_type": "stream",
          "name": "stdout",
          "text": [
            "+----------+--------------------+\n",
            "|product_id|       product_title|\n",
            "+----------+--------------------+\n",
            "|B002N1U1FI|Wallies 12238 Cam...|\n",
            "|B000NCV2V6|Heath Zenith BL-6...|\n",
            "|B002TSN4SQ|Master Lock 1500I...|\n",
            "|B007V4YAOK|Duck Brand Printe...|\n",
            "|B002MJJ3EQ|Delta T14485-SSH2...|\n",
            "+----------+--------------------+\n",
            "only showing top 5 rows\n",
            "\n"
          ]
        }
      ]
    },
    {
      "cell_type": "code",
      "source": [
        "print(f\"Size of products before removing any duplicates: {products_df.count()}\")"
      ],
      "metadata": {
        "colab": {
          "base_uri": "https://localhost:8080/"
        },
        "id": "2cAIpd8-mYTq",
        "outputId": "23471703-1f78-4149-b66d-0c3275132bf7"
      },
      "execution_count": null,
      "outputs": [
        {
          "output_type": "stream",
          "name": "stdout",
          "text": [
            "Size of products before removing any duplicates: 2634255\n"
          ]
        }
      ]
    },
    {
      "cell_type": "code",
      "source": [
        "# Dropping Duplicate values from the Dataframe\n",
        "products_df = products_df.dropDuplicates()\n",
        "\n",
        "# State the size of the DF after duplicates:\n",
        "print(f\"Size AFTER removing any duplicates: {products_df.count()}\")"
      ],
      "metadata": {
        "colab": {
          "base_uri": "https://localhost:8080/"
        },
        "id": "m2dRJ9P8ltvq",
        "outputId": "232554c2-cd86-4d74-9f12-8dff7b0a7f52"
      },
      "execution_count": null,
      "outputs": [
        {
          "output_type": "stream",
          "name": "stdout",
          "text": [
            "Size AFTER removing any duplicates: 348799\n"
          ]
        }
      ]
    },
    {
      "cell_type": "code",
      "source": [
        "#Create customers dataframe to match customers table and calculate the customer_count\n",
        "customers_df = cleaned_df.groupby(\"customer_id\").agg({\"customer_id\": \"count\"})\n",
        "\n",
        "# Rename the column to match the table schema\n",
        "customers_df = customers_df.withColumnRenamed(\"count(customer_id)\", \"customer_count\")\n",
        "customers_df.show(5)"
      ],
      "metadata": {
        "id": "JpSKAusfniFM",
        "colab": {
          "base_uri": "https://localhost:8080/"
        },
        "outputId": "8680491d-8287-4477-e939-1d74a75a58c2"
      },
      "execution_count": null,
      "outputs": [
        {
          "output_type": "stream",
          "name": "stdout",
          "text": [
            "+-----------+--------------+\n",
            "|customer_id|customer_count|\n",
            "+-----------+--------------+\n",
            "|   22055470|            12|\n",
            "|   53041874|             6|\n",
            "|    3951073|             2|\n",
            "|   20786504|             3|\n",
            "|   47973619|             1|\n",
            "+-----------+--------------+\n",
            "only showing top 5 rows\n",
            "\n"
          ]
        }
      ]
    },
    {
      "cell_type": "code",
      "source": [
        "# Create vine dataframe to match vine_table table\n",
        "vine_df = cleaned_df.select([\"review_id\", \"star_rating\",\"helpful_votes\",\"total_votes\",\"vine\"])\n",
        "vine_df.show(5)"
      ],
      "metadata": {
        "id": "Lfah3_TaniI_",
        "colab": {
          "base_uri": "https://localhost:8080/"
        },
        "outputId": "3594eff7-0803-4cd3-ce64-ecdab1bf523e"
      },
      "execution_count": null,
      "outputs": [
        {
          "output_type": "stream",
          "name": "stdout",
          "text": [
            "+--------------+-----------+-------------+-----------+----+\n",
            "|     review_id|star_rating|helpful_votes|total_votes|vine|\n",
            "+--------------+-----------+-------------+-----------+----+\n",
            "|R100D3UT1KL2LP|          5|            0|          0|   N|\n",
            "|R100VJOWSRD7MW|          4|            0|          0|   N|\n",
            "|R103699E1EG79Y|          5|            0|          0|   N|\n",
            "|R1038R168TQ0M2|          3|            0|          0|   N|\n",
            "|R103LVNJ2V5MOU|          1|            0|          0|   N|\n",
            "+--------------+-----------+-------------+-----------+----+\n",
            "only showing top 5 rows\n",
            "\n"
          ]
        }
      ]
    },
    {
      "cell_type": "markdown",
      "source": [
        "## Load\n",
        "\n",
        "1.   Postgres setup\n",
        "2.   Write Dataframes to RDS"
      ],
      "metadata": {
        "id": "pG1wX3WoHdpc"
      }
    },
    {
      "cell_type": "markdown",
      "source": [
        "### Postgres Setup"
      ],
      "metadata": {
        "id": "bzzAFD-kprPB"
      }
    },
    {
      "cell_type": "code",
      "execution_count": null,
      "metadata": {
        "id": "985Vl1dtmpVU"
      },
      "outputs": [],
      "source": [
        "# Configure settings for RDS - Please enter your endpoint and database information\n",
        "mode = \"append\"\n",
        "jdbc_url=\"jdbc:postgresql://<insert endpoint>:5432/<insert database-name>\"\n",
        "config = {\"user\":\"<insert username>\", \n",
        "          \"password\": \"<insert password>\", \n",
        "          \"driver\":\"org.postgresql.Driver\"}\n"
      ]
    },
    {
      "cell_type": "markdown",
      "source": [
        "### Write Dataframes to RDS"
      ],
      "metadata": {
        "id": "AghAL3e6GpHI"
      }
    },
    {
      "cell_type": "code",
      "source": [
        "# Write DataFrame to review_id_table table in RDS\n",
        "\n",
        "review_id_df.write.jdbc(url=jdbc_url, table='review_id_table', mode=mode, properties=config)"
      ],
      "metadata": {
        "id": "3Q5_jd5kpaER"
      },
      "execution_count": null,
      "outputs": []
    },
    {
      "cell_type": "code",
      "source": [
        "# Write DataFrame to products table in RDS\n",
        "\n",
        "products_df.write.jdbc(url=jdbc_url, table='products', mode=mode, properties=config)"
      ],
      "metadata": {
        "id": "oQEarFfZpaHa"
      },
      "execution_count": null,
      "outputs": []
    },
    {
      "cell_type": "code",
      "source": [
        "# Write DataFrame to customers table in RDS\n",
        "\n",
        "customers_df.write.jdbc(url=jdbc_url, table='customers', mode=mode, properties=config)"
      ],
      "metadata": {
        "id": "tFoE1MgppaKY"
      },
      "execution_count": null,
      "outputs": []
    },
    {
      "cell_type": "code",
      "source": [
        "# Write DataFrame to vine_table table in RDS\n",
        "\n",
        "vine_df.write.jdbc(url=jdbc_url, table='vine_table', mode=mode, properties=config)"
      ],
      "metadata": {
        "id": "UtsBDQwecQ-o"
      },
      "execution_count": null,
      "outputs": []
    },
    {
      "cell_type": "code",
      "source": [],
      "metadata": {
        "id": "vOHHdmlyqoZ7"
      },
      "execution_count": null,
      "outputs": []
    }
  ]
}