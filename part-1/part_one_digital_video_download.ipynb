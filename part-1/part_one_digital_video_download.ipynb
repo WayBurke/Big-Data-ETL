{
  "nbformat": 4,
  "nbformat_minor": 0,
  "metadata": {
    "colab": {
      "provenance": []
    },
    "kernelspec": {
      "name": "python3",
      "display_name": "Python 3"
    },
    "language_info": {
      "name": "python"
    }
  },
  "cells": [
    {
      "cell_type": "markdown",
      "source": [
        "# Module 22: Big Data Challenge - Amazon Reviews\n",
        "## Digital Video Download Review"
      ],
      "metadata": {
        "id": "f8RCDChXcBuj"
      }
    },
    {
      "cell_type": "code",
      "source": [
        "import os\n",
        "\n",
        "# Using Spark Version 3.2.2. To find the latest version of spark 3.2  from http://www.apache.org/dist/spark/ and enter as the spark version\n",
        "spark_version = 'spark-3.2.2'\n",
        "os.environ['SPARK_VERSION']=spark_version\n",
        "\n",
        "# Install Spark and Java\n",
        "!apt-get update\n",
        "!apt-get install openjdk-11-jdk-headless -qq > /dev/null\n",
        "!wget -q http://www.apache.org/dist/spark/$SPARK_VERSION/$SPARK_VERSION-bin-hadoop2.7.tgz\n",
        "!tar xf $SPARK_VERSION-bin-hadoop2.7.tgz\n",
        "!pip install -q findspark\n",
        "\n",
        "# Set Environment Variables\n",
        "os.environ[\"JAVA_HOME\"] = \"/usr/lib/jvm/java-11-openjdk-amd64\"\n",
        "os.environ[\"SPARK_HOME\"] = f\"/content/{spark_version}-bin-hadoop2.7\"\n",
        "\n",
        "# Start a SparkSession\n",
        "import findspark\n",
        "findspark.init()"
      ],
      "metadata": {
        "id": "3tPPNB81cJvd",
        "colab": {
          "base_uri": "https://localhost:8080/"
        },
        "outputId": "b22f260e-b582-490e-93b4-8960baa786d9"
      },
      "execution_count": null,
      "outputs": [
        {
          "output_type": "stream",
          "name": "stdout",
          "text": [
            "\r0% [Working]\r            \rGet:1 http://security.ubuntu.com/ubuntu bionic-security InRelease [88.7 kB]\n",
            "\r0% [Connecting to archive.ubuntu.com] [1 InRelease 14.2 kB/88.7 kB 16%] [Connec\r                                                                               \rGet:2 https://cloud.r-project.org/bin/linux/ubuntu bionic-cran40/ InRelease [3,626 B]\n",
            "Hit:3 http://ppa.launchpad.net/c2d4u.team/c2d4u4.0+/ubuntu bionic InRelease\n",
            "Ign:4 https://developer.download.nvidia.com/compute/machine-learning/repos/ubuntu1804/x86_64  InRelease\n",
            "Get:5 https://developer.download.nvidia.com/compute/cuda/repos/ubuntu1804/x86_64  InRelease [1,581 B]\n",
            "Hit:6 https://developer.download.nvidia.com/compute/machine-learning/repos/ubuntu1804/x86_64  Release\n",
            "Hit:7 http://archive.ubuntu.com/ubuntu bionic InRelease\n",
            "Get:8 http://archive.ubuntu.com/ubuntu bionic-updates InRelease [88.7 kB]\n",
            "Hit:9 http://ppa.launchpad.net/cran/libgit2/ubuntu bionic InRelease\n",
            "Hit:10 http://ppa.launchpad.net/deadsnakes/ppa/ubuntu bionic InRelease\n",
            "Get:11 http://archive.ubuntu.com/ubuntu bionic-backports InRelease [83.3 kB]\n",
            "Hit:12 http://ppa.launchpad.net/graphics-drivers/ppa/ubuntu bionic InRelease\n",
            "Get:13 http://security.ubuntu.com/ubuntu bionic-security/universe amd64 Packages [1,561 kB]\n",
            "Get:14 http://security.ubuntu.com/ubuntu bionic-security/main amd64 Packages [3,067 kB]\n",
            "Get:15 https://developer.download.nvidia.com/compute/cuda/repos/ubuntu1804/x86_64  Packages [1,038 kB]\n",
            "Get:17 http://archive.ubuntu.com/ubuntu bionic-updates/universe amd64 Packages [2,338 kB]\n",
            "Get:18 http://archive.ubuntu.com/ubuntu bionic-updates/main amd64 Packages [3,493 kB]\n",
            "Fetched 11.8 MB in 8s (1,510 kB/s)\n",
            "Reading package lists... Done\n"
          ]
        }
      ]
    },
    {
      "cell_type": "code",
      "source": [
        "#Connection to Postgres Database\n",
        "\n",
        "!wget https://jdbc.postgresql.org/download/postgresql-42.2.9.jar"
      ],
      "metadata": {
        "id": "J8Z33rJbh4Hr",
        "colab": {
          "base_uri": "https://localhost:8080/"
        },
        "outputId": "76ffab5e-e1eb-4448-a3fe-b3d5e83968da"
      },
      "execution_count": null,
      "outputs": [
        {
          "output_type": "stream",
          "name": "stdout",
          "text": [
            "--2022-11-23 22:55:00--  https://jdbc.postgresql.org/download/postgresql-42.2.9.jar\n",
            "Resolving jdbc.postgresql.org (jdbc.postgresql.org)... 72.32.157.228, 2001:4800:3e1:1::228\n",
            "Connecting to jdbc.postgresql.org (jdbc.postgresql.org)|72.32.157.228|:443... connected.\n",
            "HTTP request sent, awaiting response... 200 OK\n",
            "Length: 914037 (893K) [application/java-archive]\n",
            "Saving to: ‘postgresql-42.2.9.jar’\n",
            "\n",
            "postgresql-42.2.9.j 100%[===================>] 892.61K  5.76MB/s    in 0.2s    \n",
            "\n",
            "2022-11-23 22:55:00 (5.76 MB/s) - ‘postgresql-42.2.9.jar’ saved [914037/914037]\n",
            "\n"
          ]
        }
      ]
    },
    {
      "cell_type": "code",
      "source": [
        "# Start Spark session with Postgres connection\n",
        "\n",
        "from pyspark.sql import SparkSession\n",
        "spark = SparkSession.builder.appName(\"BigDataPart1-DigitalVideo\").config(\"spark.driver.extraClassPath\",\"/content/postgresql-42.2.9.jar\").getOrCreate()\n"
      ],
      "metadata": {
        "id": "F3pfsI57cQO_"
      },
      "execution_count": null,
      "outputs": []
    },
    {
      "cell_type": "markdown",
      "source": [
        "## Extract\n",
        "\n",
        "1. Connect to and load data from AWS to dataframe using PySpark\n",
        "2. Include the headers from the dataset\n",
        "3. Verify data and count of entries"
      ],
      "metadata": {
        "id": "FJcNKEJyG4VU"
      }
    },
    {
      "cell_type": "code",
      "source": [
        "# Read in data from S3 Buckets\n",
        "from pyspark import SparkFiles\n",
        "\n",
        "url=\"https://s3.amazonaws.com/amazon-reviews-pds/tsv/amazon_reviews_us_Digital_Video_Download_v1_00.tsv.gz\"\n",
        "\n",
        "spark.sparkContext.addFile(url)\n",
        "\n",
        "# Modified since this is a tab delimited file.\n",
        "reviewDV_df = spark.read.option('header', 'true').csv(SparkFiles.get(\"amazon_reviews_us_Digital_Video_Download_v1_00.tsv.gz\"), inferSchema=True, sep='\\t', timestampFormat=\"mm/dd/yy\") \n",
        "\n",
        "# Show Top entries of the DataFrame to be later dissected into the table schemas\n",
        "reviewDV_df.show()"
      ],
      "metadata": {
        "id": "mLkQB-RXcQhO",
        "colab": {
          "base_uri": "https://localhost:8080/"
        },
        "outputId": "342204e3-70f7-409e-f6c2-084844f083e4"
      },
      "execution_count": null,
      "outputs": [
        {
          "output_type": "stream",
          "name": "stdout",
          "text": [
            "+-----------+-----------+--------------+----------+--------------+--------------------+--------------------+-----------+-------------+-----------+----+-----------------+--------------------+--------------------+-----------+\n",
            "|marketplace|customer_id|     review_id|product_id|product_parent|       product_title|    product_category|star_rating|helpful_votes|total_votes|vine|verified_purchase|     review_headline|         review_body|review_date|\n",
            "+-----------+-----------+--------------+----------+--------------+--------------------+--------------------+-----------+-------------+-----------+----+-----------------+--------------------+--------------------+-----------+\n",
            "|         US|   12190288|R3FU16928EP5TC|B00AYB1482|     668895143|Enlightened: Seas...|Digital_Video_Dow...|          5|            0|          0|   N|                Y|I loved it and I ...|I loved it and I ...| 2015-08-31|\n",
            "|         US|   30549954|R1IZHHS1MH3AQ4|B00KQD28OM|     246219280|             Vicious|Digital_Video_Dow...|          5|            0|          0|   N|                Y|As always it seem...|As always it seem...| 2015-08-31|\n",
            "|         US|   52895410| R52R85WC6TIAH|B01489L5LQ|     534732318|         After Words|Digital_Video_Dow...|          4|           17|         18|   N|                Y|      Charming movie|This movie isn't ...| 2015-08-31|\n",
            "|         US|   27072354| R7HOOYTVIB0DS|B008LOVIIK|     239012694|Masterpiece: Insp...|Digital_Video_Dow...|          5|            0|          0|   N|                Y|          Five Stars|excellant this is...| 2015-08-31|\n",
            "|         US|   26939022|R1XQ2N5CDOZGNX|B0094LZMT0|     535858974|   On The Waterfront|Digital_Video_Dow...|          5|            0|          0|   N|                Y|Brilliant film fr...|Brilliant film fr...| 2015-08-31|\n",
            "|         US|    4772040|R1HCST57W334KN|B0112OSOQE|      38517795|Rick and Morty Se...|Digital_Video_Dow...|          5|            5|          6|   N|                Y|Best show on TV r...|If you don't like...| 2015-08-31|\n",
            "|         US|   12910040|R32BUTYQS1ZJBQ|B000NPE5SA|     373323715|      Africa Screams|Digital_Video_Dow...|          4|            1|          1|   N|                Y|Very funny. A typ...|Very funny.  A ty...| 2015-08-31|\n",
            "|         US|   38805573|  RH4SXPL4L9QU|B00XWV4QXG|     633842417| Entourage: Season 7|Digital_Video_Dow...|          3|            0|          0|   N|                Y|it was not as goo...|Strange as it is,...| 2015-08-31|\n",
            "|         US|   37100714|R37INWIQA5YW8N|B00X8UKOUK|     666093513|Catastrophe - Sea...|Digital_Video_Dow...|          2|            0|          0|   N|                Y|           Two Stars|Funny shows! We l...| 2015-08-31|\n",
            "|         US|   41234409|R18GSVAAS3N8GX|B00OOKXTFU|     801680808|The Worricker Tri...|Digital_Video_Dow...|          3|            0|          0|   N|                Y|        A tad Stuffy|Well made. Great ...| 2015-08-31|\n",
            "|         US|   24698954|R2QCG0ZZOHYUOX|B00URDJ600|     174981485|Mr. Selfridge, Se...|Digital_Video_Dow...|          5|            0|          0|   N|                Y|This show is awes...|This show is awes...| 2015-08-31|\n",
            "|         US|   11956809|R2B1OCYMUVMS5C|B009JUZ5I4|     654293980|  Five Branded Women|Digital_Video_Dow...|          5|            0|          0|   N|                Y|A good perspectiv...|A good perspectiv...| 2015-08-31|\n",
            "|         US|   11763902|R131ZJWHK0XXY0|B00PSLQYWE|     156264553|Downton Abbey Sea...|Digital_Video_Dow...|          4|            0|          0|   N|                Y|this saga gets be...|this saga gets be...| 2015-08-31|\n",
            "|         US|   46765633| RY6RIUNL03N8M|B00LI1COYA|     714145608|    Extant, Season 1|Digital_Video_Dow...|          5|            0|          0|   N|                Y|          Five Stars|         Great show.| 2015-08-31|\n",
            "|         US|   12411752|R2SWNCCEH2HPM5|B01347T9O8|     331499516|            Casanova|Digital_Video_Dow...|          1|            0|          0|   N|                Y|            One Star|Not my kind of mo...| 2015-08-31|\n",
            "|         US|   14717869|R127KV8E8ZC5L4|B00EC7VQX2|     627579257|Boardwalk Empire ...|Digital_Video_Dow...|          1|            0|          1|   N|                Y|I would have give...|I would have give...| 2015-08-31|\n",
            "|         US|    7438246|R3GH9B8WLQVY5T|B014P64276|     120489454|      Reunion Part 2|Digital_Video_Dow...|          5|            0|          0|   N|                Y|          Five Stars|         I loved it.| 2015-08-31|\n",
            "|         US|   51636125|R3AEFW1YB46FAU|B00X8UKOUK|     666093513|Catastrophe - Sea...|Digital_Video_Dow...|          3|            0|          0|   N|                Y|I want to like it...|I want to like it...| 2015-08-31|\n",
            "|         US|   47856888|R1ZHHD1GTHGMNK|B005U9RM0W|     728197314|      Grimm Season 1|Digital_Video_Dow...|          4|            1|          1|   N|                Y|If you're a sucke...|If you're a sucke...| 2015-08-31|\n",
            "|         US|    9210752|R2BCH4XK5CIK50|B00X8UKOUK|     666093513|Catastrophe - Sea...|Digital_Video_Dow...|          5|            0|          0|   N|                Y|         Great show.|Well done!!  Grea...| 2015-08-31|\n",
            "+-----------+-----------+--------------+----------+--------------+--------------------+--------------------+-----------+-------------+-----------+----+-----------------+--------------------+--------------------+-----------+\n",
            "only showing top 20 rows\n",
            "\n"
          ]
        }
      ]
    },
    {
      "cell_type": "code",
      "source": [
        "# State the size of the reviewDV_df before dropping NAs\n",
        "print(reviewDV_df.count())"
      ],
      "metadata": {
        "id": "bnkYiryYnIWL",
        "colab": {
          "base_uri": "https://localhost:8080/"
        },
        "outputId": "7249f5b3-b691-4a15-ac77-7baeb8ddd3c8"
      },
      "execution_count": null,
      "outputs": [
        {
          "output_type": "stream",
          "name": "stdout",
          "text": [
            "4057147\n"
          ]
        }
      ]
    },
    {
      "cell_type": "markdown",
      "source": [
        "## Transform\n",
        "\n",
        "1. Remove NA from Dataframe\n",
        "2. Remove duplicate entries\n",
        "3. Rename columns (as needed) - Not Needed\n",
        "4. Create separate dataframe for each table"
      ],
      "metadata": {
        "id": "7GGL3YnpHJVh"
      }
    },
    {
      "cell_type": "code",
      "source": [
        "#Cleaning up the data set to drop all NAs and Duplicate values\n",
        "\n",
        "# Drop NA values\n",
        "dropna_df = reviewDV_df.dropna(how='any')\n",
        "\n",
        "# State the size of the DF after dropping NAs\n",
        "print(f\"Size after dropping NA: {dropna_df.count()}\")\n",
        "\n",
        "# Dropping Duplicate values from the Dataframe\n",
        "dropna_df = dropna_df.dropDuplicates()\n",
        "\n",
        "# State the size of the DF after dropping NAs\n",
        "print(f\"Size after removing any duplicates: {dropna_df.count()}\")"
      ],
      "metadata": {
        "id": "t2z4JS7lcQnr",
        "colab": {
          "base_uri": "https://localhost:8080/"
        },
        "outputId": "cc9d0124-06b6-417f-8c6e-6df81d0e8f39"
      },
      "execution_count": null,
      "outputs": [
        {
          "output_type": "stream",
          "name": "stdout",
          "text": [
            "Size after dropping NA: 4056518\n",
            "Size after removing any duplicates: 4056518\n"
          ]
        }
      ]
    },
    {
      "cell_type": "code",
      "source": [
        "# Remove columns not included in the database schema. \n",
        "# These columns are not needed: marketplace, product_category, verified_purchase, review_headline, review_body\n",
        "\n",
        "cleaned_df  = dropna_df.select([\"customer_id\",\"review_id\",\"product_id\", \"product_parent\",\"product_title\",\"star_rating\",\"helpful_votes\",\"total_votes\",\"vine\",\"review_date\"])\n",
        "cleaned_df.show(5)"
      ],
      "metadata": {
        "id": "kuE49a-Znoa3",
        "colab": {
          "base_uri": "https://localhost:8080/"
        },
        "outputId": "1c2a4aed-cda4-4f04-a255-6ee08f951fad"
      },
      "execution_count": null,
      "outputs": [
        {
          "output_type": "stream",
          "name": "stdout",
          "text": [
            "+-----------+--------------+----------+--------------+--------------------+-----------+-------------+-----------+----+-----------+\n",
            "|customer_id|     review_id|product_id|product_parent|       product_title|star_rating|helpful_votes|total_votes|vine|review_date|\n",
            "+-----------+--------------+----------+--------------+--------------------+-----------+-------------+-----------+----+-----------+\n",
            "|   51950426|R1005KN8L3OP23|B00COTH9VI|     956367867|Seeking Asian Female|          5|            1|          1|   N| 2015-04-07|\n",
            "|   42507369|R1008R0427X1FG|B009KHHELW|      41559476|Duck Dynasty Seas...|          4|            0|          0|   N| 2014-05-28|\n",
            "|    2458036|R100AJRT6FE05K|B0048ZXXIO|     814772102|Team Umizoomi Sea...|          5|            0|          0|   N| 2014-06-27|\n",
            "|   23459444|R100AOYGH18ZXK|B00GBDWZDU|     936264488|     Christmas Crush|          3|            0|          0|   N| 2015-05-20|\n",
            "|   38247406|R100BC7LPZKRNN|B007SPQZMC|     192466294|Downton Abbey Sea...|          5|            0|          0|   N| 2013-03-13|\n",
            "+-----------+--------------+----------+--------------+--------------------+-----------+-------------+-----------+----+-----------+\n",
            "only showing top 5 rows\n",
            "\n"
          ]
        }
      ]
    },
    {
      "cell_type": "code",
      "source": [
        "#Examine the dataframe schema to check the datatypes\n",
        "\n",
        "cleaned_df.printSchema()"
      ],
      "metadata": {
        "colab": {
          "base_uri": "https://localhost:8080/"
        },
        "id": "7DO8VBHSw7Pf",
        "outputId": "4e69b0c6-fb4c-4f5f-f393-aff37cf9040a"
      },
      "execution_count": null,
      "outputs": [
        {
          "output_type": "stream",
          "name": "stdout",
          "text": [
            "root\n",
            " |-- customer_id: integer (nullable = true)\n",
            " |-- review_id: string (nullable = true)\n",
            " |-- product_id: string (nullable = true)\n",
            " |-- product_parent: integer (nullable = true)\n",
            " |-- product_title: string (nullable = true)\n",
            " |-- star_rating: integer (nullable = true)\n",
            " |-- helpful_votes: integer (nullable = true)\n",
            " |-- total_votes: integer (nullable = true)\n",
            " |-- vine: string (nullable = true)\n",
            " |-- review_date: string (nullable = true)\n",
            "\n"
          ]
        }
      ]
    },
    {
      "cell_type": "code",
      "source": [
        "#Updating the schema to have nullable = False\n",
        "\n",
        "cleaned_df.schema['customer_id'].nullable=False\n",
        "cleaned_df.schema['review_id'].nullable=False\n",
        "cleaned_df.schema['product_id'].nullable=False\n",
        "\n",
        "print(cleaned_df.schema['customer_id'])\n",
        "print(cleaned_df.schema['review_id'])\n",
        "print(cleaned_df.schema['product_id'])"
      ],
      "metadata": {
        "colab": {
          "base_uri": "https://localhost:8080/"
        },
        "id": "MeLBEuw-fPtb",
        "outputId": "85e486d2-95d9-4793-ea1f-0166802d42db"
      },
      "execution_count": null,
      "outputs": [
        {
          "output_type": "stream",
          "name": "stdout",
          "text": [
            "StructField(customer_id,IntegerType,false)\n",
            "StructField(review_id,StringType,false)\n",
            "StructField(product_id,StringType,false)\n"
          ]
        }
      ]
    },
    {
      "cell_type": "markdown",
      "source": [
        "### Create Dataframe for each of the Tables"
      ],
      "metadata": {
        "id": "SaKquNC1GgL_"
      }
    },
    {
      "cell_type": "code",
      "source": [
        "# Create review_id dataframe to match review_id_table table\n",
        "review_id_df = cleaned_df.select([\"review_id\", \"customer_id\", \"product_id\", \"product_parent\",\"review_date\"])\n",
        "review_id_df.show(5)"
      ],
      "metadata": {
        "id": "DGlatTAGnhya",
        "colab": {
          "base_uri": "https://localhost:8080/"
        },
        "outputId": "49948410-6dce-4cb7-b106-1dcaf06a9d68"
      },
      "execution_count": null,
      "outputs": [
        {
          "output_type": "stream",
          "name": "stdout",
          "text": [
            "+--------------+-----------+----------+--------------+-----------+\n",
            "|     review_id|customer_id|product_id|product_parent|review_date|\n",
            "+--------------+-----------+----------+--------------+-----------+\n",
            "|R1005KN8L3OP23|   51950426|B00COTH9VI|     956367867| 2015-04-07|\n",
            "|R1008R0427X1FG|   42507369|B009KHHELW|      41559476| 2014-05-28|\n",
            "|R100AJRT6FE05K|    2458036|B0048ZXXIO|     814772102| 2014-06-27|\n",
            "|R100AOYGH18ZXK|   23459444|B00GBDWZDU|     936264488| 2015-05-20|\n",
            "|R100BC7LPZKRNN|   38247406|B007SPQZMC|     192466294| 2013-03-13|\n",
            "+--------------+-----------+----------+--------------+-----------+\n",
            "only showing top 5 rows\n",
            "\n"
          ]
        }
      ]
    },
    {
      "cell_type": "code",
      "source": [
        "# Create products dataframe to match products table\n",
        "products_df = cleaned_df.select([\"product_id\", \"product_title\"])\n",
        "products_df.show(5)"
      ],
      "metadata": {
        "id": "99xKrgkxniBH",
        "colab": {
          "base_uri": "https://localhost:8080/"
        },
        "outputId": "215a1e99-8e7a-49e0-fee3-294e53cd52ca"
      },
      "execution_count": null,
      "outputs": [
        {
          "output_type": "stream",
          "name": "stdout",
          "text": [
            "+----------+--------------------+\n",
            "|product_id|       product_title|\n",
            "+----------+--------------------+\n",
            "|B00COTH9VI|Seeking Asian Female|\n",
            "|B009KHHELW|Duck Dynasty Seas...|\n",
            "|B0048ZXXIO|Team Umizoomi Sea...|\n",
            "|B00GBDWZDU|     Christmas Crush|\n",
            "|B007SPQZMC|Downton Abbey Sea...|\n",
            "+----------+--------------------+\n",
            "only showing top 5 rows\n",
            "\n"
          ]
        }
      ]
    },
    {
      "cell_type": "code",
      "source": [
        "#Create customers dataframe to match customers table and calculate the customer_count\n",
        "customers_df = cleaned_df.groupby(\"customer_id\").agg({\"customer_id\": \"count\"})\n",
        "\n",
        "# Rename the column to match the table schema\n",
        "customers_df = customers_df.withColumnRenamed(\"count(customer_id)\", \"customer_count\")\n",
        "customers_df.show(5)"
      ],
      "metadata": {
        "id": "JpSKAusfniFM",
        "colab": {
          "base_uri": "https://localhost:8080/"
        },
        "outputId": "da4310d7-0bf2-43f8-f5eb-dc872b1f47b3"
      },
      "execution_count": null,
      "outputs": [
        {
          "output_type": "stream",
          "name": "stdout",
          "text": [
            "+-----------+--------------+\n",
            "|customer_id|customer_count|\n",
            "+-----------+--------------+\n",
            "|   36771518|             5|\n",
            "|   23006345|             5|\n",
            "|    8899358|             1|\n",
            "|   45518338|             7|\n",
            "|   31452416|             1|\n",
            "+-----------+--------------+\n",
            "only showing top 5 rows\n",
            "\n"
          ]
        }
      ]
    },
    {
      "cell_type": "code",
      "source": [
        "# Create vine dataframe to match vine_table table\n",
        "vine_df = cleaned_df.select([\"review_id\", \"star_rating\",\"helpful_votes\",\"total_votes\",\"vine\"])\n",
        "vine_df.show(5)"
      ],
      "metadata": {
        "id": "Lfah3_TaniI_",
        "colab": {
          "base_uri": "https://localhost:8080/"
        },
        "outputId": "e8e148d1-1e53-4da2-f84a-70c96055aa67"
      },
      "execution_count": null,
      "outputs": [
        {
          "output_type": "stream",
          "name": "stdout",
          "text": [
            "+--------------+-----------+-------------+-----------+----+\n",
            "|     review_id|star_rating|helpful_votes|total_votes|vine|\n",
            "+--------------+-----------+-------------+-----------+----+\n",
            "|R1005KN8L3OP23|          5|            1|          1|   N|\n",
            "|R1008R0427X1FG|          4|            0|          0|   N|\n",
            "|R100AJRT6FE05K|          5|            0|          0|   N|\n",
            "|R100AOYGH18ZXK|          3|            0|          0|   N|\n",
            "|R100BC7LPZKRNN|          5|            0|          0|   N|\n",
            "+--------------+-----------+-------------+-----------+----+\n",
            "only showing top 5 rows\n",
            "\n"
          ]
        }
      ]
    },
    {
      "cell_type": "markdown",
      "source": [
        "## Load\n",
        "\n",
        "1.   Postgres setup\n",
        "2.   Write Dataframes to RDS"
      ],
      "metadata": {
        "id": "pG1wX3WoHdpc"
      }
    },
    {
      "cell_type": "markdown",
      "source": [
        "### Postgres Setup"
      ],
      "metadata": {
        "id": "bzzAFD-kprPB"
      }
    },
    {
      "cell_type": "code",
      "execution_count": null,
      "metadata": {
        "id": "985Vl1dtmpVU"
      },
      "outputs": [],
      "source": [
        "# Configure settings for RDS - Please enter your endpoint and database information\n",
        "mode = \"append\"\n",
        "jdbc_url=\"jdbc:postgresql://<insert endpoint>:5432/<insert database-name>\"\n",
        "config = {\"user\":\"<insert username>\", \n",
        "          \"password\": \"<insert password>\", \n",
        "          \"driver\":\"org.postgresql.Driver\"}\n"
      ]
    },
    {
      "cell_type": "markdown",
      "source": [
        "### Write Dataframes to RDS"
      ],
      "metadata": {
        "id": "AghAL3e6GpHI"
      }
    },
    {
      "cell_type": "code",
      "source": [
        "# Write DataFrame to review_id_table table in RDS\n",
        "\n",
        "review_id_df.write.jdbc(url=jdbc_url, table='review_id_table', mode=mode, properties=config)"
      ],
      "metadata": {
        "id": "3Q5_jd5kpaER"
      },
      "execution_count": null,
      "outputs": []
    },
    {
      "cell_type": "code",
      "source": [
        "# Write DataFrame to products table in RDS\n",
        "\n",
        "products_df.write.jdbc(url=jdbc_url, table='products', mode=mode, properties=config)"
      ],
      "metadata": {
        "id": "oQEarFfZpaHa"
      },
      "execution_count": null,
      "outputs": []
    },
    {
      "cell_type": "code",
      "source": [
        "# Write DataFrame to customers table in RDS\n",
        "\n",
        "customers_df.write.jdbc(url=jdbc_url, table='customers', mode=mode, properties=config)"
      ],
      "metadata": {
        "id": "tFoE1MgppaKY"
      },
      "execution_count": null,
      "outputs": []
    },
    {
      "cell_type": "code",
      "source": [
        "# Write DataFrame to active_user table in RDS\n",
        "\n",
        "vine_df.write.jdbc(url=jdbc_url, table='vine_table', mode=mode, properties=config)"
      ],
      "metadata": {
        "id": "UtsBDQwecQ-o"
      },
      "execution_count": null,
      "outputs": []
    },
    {
      "cell_type": "code",
      "source": [],
      "metadata": {
        "id": "pBovdduCMo-O"
      },
      "execution_count": null,
      "outputs": []
    }
  ]
}